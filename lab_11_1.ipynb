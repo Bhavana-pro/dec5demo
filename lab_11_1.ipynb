{
  "nbformat": 4,
  "nbformat_minor": 0,
  "metadata": {
    "colab": {
      "provenance": [],
      "authorship_tag": "ABX9TyOywxpshixjKbgTq29pH2sp",
      "include_colab_link": true
    },
    "kernelspec": {
      "name": "python3",
      "display_name": "Python 3"
    },
    "language_info": {
      "name": "python"
    }
  },
  "cells": [
    {
      "cell_type": "markdown",
      "metadata": {
        "id": "view-in-github",
        "colab_type": "text"
      },
      "source": [
        "<a href=\"https://colab.research.google.com/github/Bhavana-pro/dec5demo/blob/main/lab_11_1.ipynb\" target=\"_parent\"><img src=\"https://colab.research.google.com/assets/colab-badge.svg\" alt=\"Open In Colab\"/></a>"
      ]
    },
    {
      "cell_type": "markdown",
      "source": [
        "Backtracking search in csp"
      ],
      "metadata": {
        "id": "a1IeeIQhqBqY"
      }
    },
    {
      "cell_type": "code",
      "execution_count": null,
      "metadata": {
        "colab": {
          "base_uri": "https://localhost:8080/"
        },
        "id": "dzzFeBZNmZA6",
        "outputId": "d38c5e14-7145-4b0a-aad3-549db401379c"
      },
      "outputs": [
        {
          "output_type": "stream",
          "name": "stdout",
          "text": [
            "Solution: {'A': 1, 'B': 2, 'C': 1}\n"
          ]
        }
      ],
      "source": [
        "class CSP:\n",
        "    def __init__(self, variables, domains, constraints):\n",
        "        self.variables = variables  # List of variables\n",
        "        self.domains = domains  # Dictionary of variable: domain pairs\n",
        "        self.constraints = constraints  # A dictionary of variable: constraints list\n",
        "        self.assignment = {}  # Tracks the current variable assignments\n",
        "\n",
        "    def is_consistent(self, var, value):\n",
        "        \"\"\"Check if the assignment is consistent with the constraints\"\"\"\n",
        "        for constraint in self.constraints.get(var, []):\n",
        "            other_var, constraint_fn = constraint\n",
        "            if other_var in self.assignment and not constraint_fn(value, self.assignment[other_var]):\n",
        "                return False\n",
        "        return True\n",
        "\n",
        "    def backtracking_search(self):\n",
        "        \"\"\"Runs backtracking search to solve the CSP\"\"\"\n",
        "        return self.backtrack()\n",
        "\n",
        "    def backtrack(self):\n",
        "        # If assignment is complete, return the assignment\n",
        "        if len(self.assignment) == len(self.variables):\n",
        "            return self.assignment\n",
        "\n",
        "        # Select an unassigned variable\n",
        "        var = self.select_unassigned_variable()\n",
        "\n",
        "        # Try assigning each value from the domain of the variable\n",
        "        for value in self.domains[var]:\n",
        "            if self.is_consistent(var, value):\n",
        "                # Make assignment\n",
        "                self.assignment[var] = value\n",
        "\n",
        "                # Recursively call backtracking on the new assignment\n",
        "                result = self.backtrack()\n",
        "                if result:\n",
        "                    return result\n",
        "\n",
        "                # Backtrack: Remove the assignment\n",
        "                del self.assignment[var]\n",
        "\n",
        "        # If no value worked, return failure (None)\n",
        "        return None\n",
        "\n",
        "    def select_unassigned_variable(self):\n",
        "        \"\"\"Selects an unassigned variable (basic version)\"\"\"\n",
        "        for var in self.variables:\n",
        "            if var not in self.assignment:\n",
        "                return var\n",
        "\n",
        "# Example usage of the CSP class\n",
        "\n",
        "# Variables\n",
        "variables = ['A', 'B', 'C']\n",
        "\n",
        "# Domains\n",
        "domains = {\n",
        "    'A': [1, 2, 3],\n",
        "    'B': [1, 2, 3],\n",
        "    'C': [1, 2, 3]\n",
        "}\n",
        "\n",
        "# Constraints\n",
        "# Each constraint is a tuple: (other_variable, constraint_function)\n",
        "# Example: A != B and B != C\n",
        "constraints = {\n",
        "    'A': [('B', lambda a, b: a != b)],\n",
        "    'B': [('A', lambda b, a: b != a), ('C', lambda b, c: b != c)],\n",
        "    'C': [('B', lambda c, b: c != b)]\n",
        "}\n",
        "\n",
        "# Create the CSP instance\n",
        "csp = CSP(variables, domains, constraints)\n",
        "\n",
        "# Solve using backtracking search\n",
        "solution = csp.backtracking_search()\n",
        "print(\"Solution:\", solution)\n"
      ]
    }
  ]
}